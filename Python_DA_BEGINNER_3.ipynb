{
  "nbformat": 4,
  "nbformat_minor": 0,
  "metadata": {
    "colab": {
      "provenance": [],
      "collapsed_sections": [
        "j33KK6zfa08d",
        "_k1Kj5eQPXDG",
        "-cfI0AY9ukGV",
        "4MwL_g0F575j",
        "meVmkK1gMk5u",
        "ohGXm3EX7n1O",
        "bm-PCIUddfVP",
        "iNmgFRCA4gGF"
      ],
      "authorship_tag": "ABX9TyNTeXGflLjGtlWlHhYAP76Z",
      "include_colab_link": true
    },
    "kernelspec": {
      "name": "python3",
      "display_name": "Python 3"
    },
    "language_info": {
      "name": "python"
    }
  },
  "cells": [
    {
      "cell_type": "markdown",
      "metadata": {
        "id": "view-in-github",
        "colab_type": "text"
      },
      "source": [
        "<a href=\"https://colab.research.google.com/github/FlorDGM13/Python_DA_BEGINNER_3/blob/main/Python_DA_BEGINNER_3.ipynb\" target=\"_parent\"><img src=\"https://colab.research.google.com/assets/colab-badge.svg\" alt=\"Open In Colab\"/></a>"
      ]
    },
    {
      "cell_type": "markdown",
      "source": [
        "\n",
        "#Parte 2 de Python"
      ],
      "metadata": {
        "id": "vcOohQUbavRw"
      }
    },
    {
      "cell_type": "markdown",
      "source": [
        "##1. FUNCIONES DE PYTHON\n",
        "\n"
      ],
      "metadata": {
        "id": "j33KK6zfa08d"
      }
    },
    {
      "cell_type": "markdown",
      "source": [
        "-Una funcion es un bloque de codigo que solo se ejecuta cuando se lo llama.\n",
        "\n",
        "-Pueden pasar datos, conocidos como parametros, a una funcion\n",
        "\n",
        "-Una funcion puede devolver datos como resultado"
      ],
      "metadata": {
        "id": "SkYK3c4RqMgI"
      }
    },
    {
      "cell_type": "markdown",
      "source": [
        "* CREANDO UNA FUNCION"
      ],
      "metadata": {
        "id": "VrSmiBrbqoBi"
      }
    },
    {
      "cell_type": "code",
      "execution_count": 2,
      "metadata": {
        "id": "pd7fVew8UcFc"
      },
      "outputs": [],
      "source": [
        "def my_funciton():\n",
        "  print(\"Hello from a function\")"
      ]
    },
    {
      "cell_type": "markdown",
      "source": [
        "* LLAMAR A UNA FUNCION"
      ],
      "metadata": {
        "id": "_UDUoKhLrp-N"
      }
    },
    {
      "cell_type": "code",
      "source": [
        "#Para llamar a una funcion, utilice el nombre de la funcion seguido de parentesis\n",
        "my_funciton()"
      ],
      "metadata": {
        "colab": {
          "base_uri": "https://localhost:8080/"
        },
        "id": "GL_pcHPJrYLm",
        "outputId": "7de121c0-033d-42e6-8b56-9734845e2a40"
      },
      "execution_count": 3,
      "outputs": [
        {
          "output_type": "stream",
          "name": "stdout",
          "text": [
            "Hello from a function\n"
          ]
        }
      ]
    },
    {
      "cell_type": "markdown",
      "source": [
        "* ARGUMENTOS"
      ],
      "metadata": {
        "id": "h3KP3FDesHjZ"
      }
    },
    {
      "cell_type": "markdown",
      "source": [
        "* La informacion se puede pasar a las funciones como argumentos\n",
        "* Los argumentos se especifican despues del nombre de la funcion, entre parentesis.\n",
        "* Puedes agregar tantos argumentos como quieras, simplemente separandolos con una coma."
      ],
      "metadata": {
        "id": "0wz6LRf3sJgk"
      }
    },
    {
      "cell_type": "markdown",
      "source": [
        "El siguiente ejemplo tiene una funcion con un argumeto (fname). Al llamar a la\n",
        "funcion, se pasa un nombre, que se usa dentro de la funcion para imprimir el\n",
        "nombre completo:"
      ],
      "metadata": {
        "id": "0Ff3XMU8tckx"
      }
    },
    {
      "cell_type": "code",
      "source": [
        "def my_function(fname): #parametro\n",
        "  print(fname + \" Refsnes\")\n",
        "\n",
        "my_function('Emil') # argumento\n",
        "my_function('Tobias')\n",
        "my_function('Linus')"
      ],
      "metadata": {
        "colab": {
          "base_uri": "https://localhost:8080/"
        },
        "id": "pKcMbW1pr_YE",
        "outputId": "12fdb7d0-67c9-4366-ae85-9599c194cd30"
      },
      "execution_count": 4,
      "outputs": [
        {
          "output_type": "stream",
          "name": "stdout",
          "text": [
            "Emil Refsnes\n",
            "Tobias Refsnes\n",
            "Linus Refsnes\n"
          ]
        }
      ]
    },
    {
      "cell_type": "markdown",
      "source": [
        "* ¿PARAMETROS O ARGUMENTOS?"
      ],
      "metadata": {
        "id": "khSH-RukwlTk"
      }
    },
    {
      "cell_type": "markdown",
      "source": [
        "* PARAMETRO: Un parametro es la variable que aparece dentro de los parentesis en la definicion de la funcion\n",
        "* ARGUMENTO: es el valor que se envia a la funcion cuando se llama"
      ],
      "metadata": {
        "id": "nrRM8cSGzwc7"
      }
    },
    {
      "cell_type": "markdown",
      "source": [
        "Los terminos parametro y argumento se pueden usar para lo mismo: informacion que se pasa a una funcion"
      ],
      "metadata": {
        "id": "trC4PqSryJcX"
      }
    },
    {
      "cell_type": "markdown",
      "source": [
        "* NUMERO DE ARGUMENTOS"
      ],
      "metadata": {
        "id": "QmObZbAo10HT"
      }
    },
    {
      "cell_type": "markdown",
      "source": [
        "Por defecto, una funcion debe llamarse con el numero correcto de argumentos, Esto significa que, si la funcion espera dos argumentos, debe llamarse con dos argumentos, ni mas ni menos."
      ],
      "metadata": {
        "id": "1kFezONL2VGK"
      }
    },
    {
      "cell_type": "code",
      "source": [
        "#Esta funcon espera 2 argumentos y obtiene 2 argumentos:\n",
        "\n",
        "def my_function(fname, lname):\n",
        "  print(fname + \" \",lname)\n",
        "\n",
        "my_function(\"Emil\", \"Refsnes\")"
      ],
      "metadata": {
        "id": "5HLtrA-V2q1a",
        "colab": {
          "base_uri": "https://localhost:8080/"
        },
        "outputId": "14194979-8784-4be0-ed0e-08bbe7bd4a4a"
      },
      "execution_count": 5,
      "outputs": [
        {
          "output_type": "stream",
          "name": "stdout",
          "text": [
            "Emil  Refsnes\n"
          ]
        }
      ]
    },
    {
      "cell_type": "markdown",
      "source": [
        "* ARGUMENTOS ARBITRARIOS, *ARGS"
      ],
      "metadata": {
        "id": "j2j6s22Wu658"
      }
    },
    {
      "cell_type": "markdown",
      "source": [
        "Si no se sabe cuantos argumentos se deben pasar, agregue un * antes del nombre del parametro en la definicion de la funcion.\n",
        "\n",
        "De esta manera, la funcion recibira una tupla de argumentos y podra acceder a los elementos en consecuencia:"
      ],
      "metadata": {
        "id": "hKGZg0LOvDMN"
      }
    },
    {
      "cell_type": "code",
      "source": [
        "#Si se desconoce el numero de argumentos, agregue un * antes del nombre del parametro\n",
        "\n",
        "def my_function(*kids):\n",
        "  print('the youngest child is: ' + kids[2])\n",
        "\n",
        "my_function('emil','tobias','linus')"
      ],
      "metadata": {
        "id": "UHEDs2Di24ub",
        "colab": {
          "base_uri": "https://localhost:8080/"
        },
        "outputId": "5966c170-725e-4e15-897c-842b3ffdc001"
      },
      "execution_count": 6,
      "outputs": [
        {
          "output_type": "stream",
          "name": "stdout",
          "text": [
            "the youngest child is: linus\n"
          ]
        }
      ]
    },
    {
      "cell_type": "markdown",
      "source": [
        "* ARGUMENTOS DE PALABRAS CLAVE"
      ],
      "metadata": {
        "id": "hCbexvrpw8N1"
      }
    },
    {
      "cell_type": "markdown",
      "source": [
        "Tambien puedes enviar argumentos con la sintaxis clave = valor.\n",
        "\n",
        "De esta manera el orden de los argumentos no importa."
      ],
      "metadata": {
        "id": "sNLg4FsgxHNt"
      }
    },
    {
      "cell_type": "code",
      "source": [
        "def my_function(child3, child2, child1):\n",
        "  print('the youngest child is: ' + child3)\n",
        "\n",
        "\n",
        "my_function(child1 = 'emil', child2 = 'tobias', child3 = 'linus')"
      ],
      "metadata": {
        "colab": {
          "base_uri": "https://localhost:8080/"
        },
        "id": "D0KPyCv_w25A",
        "outputId": "3a322c42-d509-4306-de6d-24bb9ad4a456"
      },
      "execution_count": 7,
      "outputs": [
        {
          "output_type": "stream",
          "name": "stdout",
          "text": [
            "the youngest child is: linus\n"
          ]
        }
      ]
    },
    {
      "cell_type": "markdown",
      "source": [
        "* ARGUMENTOS DE PALABRAS CLAVE ARBITRARIAS **KWARGS"
      ],
      "metadata": {
        "id": "RDszaEPYyL9u"
      }
    },
    {
      "cell_type": "markdown",
      "source": [
        "Si no se sabe cuantos argumentos de palabras clave se pasaran a su funcion, agregue dos asteriscos: ** antes del nombre del parametro en la definicion de la funcion.\n",
        "\n",
        "De esta manera, la funcion recibira un diccionario de argumentos y podra acceder a los elementos en consecuencia:"
      ],
      "metadata": {
        "id": "PGUmVjYVyUcs"
      }
    },
    {
      "cell_type": "code",
      "source": [
        "#Si se desconoce el numero de argumentos de palabras clave, agregue un doble **\n",
        "# antes del nombre del parametro:\n",
        "\n",
        "def my_function(**kid):\n",
        "  print('His last name is: ' + kid['lname'])\n",
        "\n",
        "my_function(fname = 'tobias', lname = 'refsnes')\n"
      ],
      "metadata": {
        "colab": {
          "base_uri": "https://localhost:8080/"
        },
        "id": "lUiEBWehxyfL",
        "outputId": "238a67b3-bcee-482d-a694-01aed61b3b5c"
      },
      "execution_count": 8,
      "outputs": [
        {
          "output_type": "stream",
          "name": "stdout",
          "text": [
            "His last name is: refsnes\n"
          ]
        }
      ]
    },
    {
      "cell_type": "markdown",
      "source": [
        "* VALOR DEL PARAMETRO PREDETERMINADO"
      ],
      "metadata": {
        "id": "vahgq_fr0Z6v"
      }
    },
    {
      "cell_type": "markdown",
      "source": [
        "El siguiente ejemplo muestra como utilizar un valor de parametro predeterminado\n",
        "\n",
        "Si llamamos a la funcion sin argumentos, utiliza el valor predeterminado:"
      ],
      "metadata": {
        "id": "sHXT-gnO0d8Q"
      }
    },
    {
      "cell_type": "code",
      "source": [
        "def my_function(country = ' Norway'):\n",
        "  print('I am from' + country)\n",
        "\n",
        "my_function(' Sweden')\n",
        "my_function(' India')\n",
        "my_function()\n",
        "my_function(' Brazil')"
      ],
      "metadata": {
        "colab": {
          "base_uri": "https://localhost:8080/"
        },
        "id": "N9FNYZJk0V-j",
        "outputId": "5107d1e2-d797-4fd3-e648-cbdaf83c9a08"
      },
      "execution_count": 9,
      "outputs": [
        {
          "output_type": "stream",
          "name": "stdout",
          "text": [
            "I am from Sweden\n",
            "I am from India\n",
            "I am from Norway\n",
            "I am from Brazil\n"
          ]
        }
      ]
    },
    {
      "cell_type": "markdown",
      "source": [
        "* PASAR UNA LISTA COMO ARGUMENTO"
      ],
      "metadata": {
        "id": "sl_SyV210uRj"
      }
    },
    {
      "cell_type": "markdown",
      "source": [
        "Puede enviar cualquier tipode datos de argumento a una funcion (cadena, numero, lista, diccionario, etc) y se tratara como el mismo tipo de datos dentro de la funcion.\n",
        "\n",
        "Por ejemplo si envias una lista como argumento, seguira siendo una lista cuando llegue a la funcion:"
      ],
      "metadata": {
        "id": "NOOMsQaj1gpf"
      }
    },
    {
      "cell_type": "code",
      "source": [
        "def my_function(food):\n",
        "  for x in food:\n",
        "    print(x)\n",
        "\n",
        "fruits = ['apple', 'banana', 'cherry']\n",
        "\n",
        "my_function(fruits)"
      ],
      "metadata": {
        "colab": {
          "base_uri": "https://localhost:8080/"
        },
        "id": "UzBgsNUw1gGy",
        "outputId": "a4a4faeb-1c56-4296-9c9e-e8795b8ee324"
      },
      "execution_count": 10,
      "outputs": [
        {
          "output_type": "stream",
          "name": "stdout",
          "text": [
            "apple\n",
            "banana\n",
            "cherry\n"
          ]
        }
      ]
    },
    {
      "cell_type": "markdown",
      "source": [
        "* VALORES DE RETORNO"
      ],
      "metadata": {
        "id": "0gqjh3n23dMr"
      }
    },
    {
      "cell_type": "markdown",
      "source": [
        "Para permitir que una función devuelva un valor, utilice la return declaracion:"
      ],
      "metadata": {
        "id": "FJsgo5ps3fpP"
      }
    },
    {
      "cell_type": "code",
      "source": [
        "def my_function(x):\n",
        "   return 5 * x\n",
        "\n",
        "print(my_function(3))\n",
        "print(my_function(5))\n",
        "print(my_function(9))"
      ],
      "metadata": {
        "colab": {
          "base_uri": "https://localhost:8080/"
        },
        "id": "54JX_KRn3bZV",
        "outputId": "7ff172eb-1808-4648-ec12-b8fe9f9575fa"
      },
      "execution_count": 11,
      "outputs": [
        {
          "output_type": "stream",
          "name": "stdout",
          "text": [
            "15\n",
            "25\n",
            "45\n"
          ]
        }
      ]
    },
    {
      "cell_type": "markdown",
      "source": [
        "* LA DECLARACION DE PASE"
      ],
      "metadata": {
        "id": "IU6RyGYc4kB3"
      }
    },
    {
      "cell_type": "markdown",
      "source": [
        "Function las definiciones no pueden estar vacias, pero si por alguna razon tienes una function definicion sin contenido, ponla en la pass declaracion para evitar obtner un eror\n"
      ],
      "metadata": {
        "id": "mAuEqhy64nFa"
      }
    },
    {
      "cell_type": "code",
      "source": [
        "def myfunc():\n",
        "  pass"
      ],
      "metadata": {
        "id": "20YkqvL04Twi"
      },
      "execution_count": 12,
      "outputs": []
    },
    {
      "cell_type": "markdown",
      "source": [
        "* ARGUMENTOS SOLO POSICIONALES"
      ],
      "metadata": {
        "id": "2A-3ehGQ47Wh"
      }
    },
    {
      "cell_type": "markdown",
      "source": [
        "Puede especificar que una funcion puede tener SOLO argumentos posicionales o SOLO argumentos de palabra clave\n",
        "\n",
        "Para especificar que una funcion solo puede tener argumentos posicionales, agregue, / despues de los argumentos"
      ],
      "metadata": {
        "id": "BUUT7jZk5Cs9"
      }
    },
    {
      "cell_type": "code",
      "source": [
        "def my_function(x,/):\n",
        "  print(x)\n",
        "\n",
        "my_function(3)"
      ],
      "metadata": {
        "colab": {
          "base_uri": "https://localhost:8080/"
        },
        "id": "O5VAYZnL46Ty",
        "outputId": "ab360769-3ffa-4e66-da86-92681623a682"
      },
      "execution_count": 13,
      "outputs": [
        {
          "output_type": "stream",
          "name": "stdout",
          "text": [
            "3\n"
          ]
        }
      ]
    },
    {
      "cell_type": "markdown",
      "source": [
        "sin embargo, / en realidad se permite usar argumentos de palabras clave incluso si la funcion espera argumentos poscionales:"
      ],
      "metadata": {
        "id": "umNGWgr051cI"
      }
    },
    {
      "cell_type": "code",
      "source": [
        "def my_function(x):\n",
        "  print(x)\n",
        "\n",
        "my_function(x = 3)"
      ],
      "metadata": {
        "colab": {
          "base_uri": "https://localhost:8080/"
        },
        "id": "jWUiE4iZ5v0k",
        "outputId": "d7172c96-0b61-4f26-f2e5-a46b23bc0e6f"
      },
      "execution_count": 14,
      "outputs": [
        {
          "output_type": "stream",
          "name": "stdout",
          "text": [
            "3\n"
          ]
        }
      ]
    },
    {
      "cell_type": "markdown",
      "source": [
        "Pero al agregarlo, / obtendra un eroor si intenta enviar un argumento de palabra clave:\n",
        "\n",
        "def my_function(x,/):\n",
        "  print(x)\n",
        "\n",
        "my_function(x = 3)"
      ],
      "metadata": {
        "id": "rMPjqpOQ6e9m"
      }
    },
    {
      "cell_type": "markdown",
      "source": [
        "* ARGUMENTOS BASADOS UNICAMENTE EN PALABRAS CLAVE"
      ],
      "metadata": {
        "id": "EI3SF5Mv6zuG"
      }
    },
    {
      "cell_type": "markdown",
      "source": [
        "Para especificar que una funcion solo puede tener argumentos de palabras clave, agrgeue *, antes de los argumentos:"
      ],
      "metadata": {
        "id": "MKL3XmgY63_Q"
      }
    },
    {
      "cell_type": "code",
      "source": [
        "def my_func(*, x):\n",
        "  print(x)\n",
        "\n",
        "my_func(x = 3)"
      ],
      "metadata": {
        "colab": {
          "base_uri": "https://localhost:8080/"
        },
        "id": "8HoyBBCI6V99",
        "outputId": "46fae05f-b17e-4836-b82c-42a584a046ec"
      },
      "execution_count": 15,
      "outputs": [
        {
          "output_type": "stream",
          "name": "stdout",
          "text": [
            "3\n"
          ]
        }
      ]
    },
    {
      "cell_type": "markdown",
      "source": [
        "* COMBINE POSICIONAMIENTO UNICAMENTE Y PALABRAS CLAVE UNICAMENTE"
      ],
      "metadata": {
        "id": "vP6iK4fTOPlZ"
      }
    },
    {
      "cell_type": "markdown",
      "source": [
        "Puede combinar los dos tipos de argumentos en la misma funcion\n",
        "Cualquier argumento antes de son /, solo posicionales, y cualquier argumento despues de *, son solo de palabra clave"
      ],
      "metadata": {
        "id": "ioDsPh46OYz6"
      }
    },
    {
      "cell_type": "code",
      "source": [
        "def my_function(a,b, /, *, c,d):\n",
        "  print(a + b + c + d)\n",
        "\n",
        "my_function(5,6, c=7, d = 8)"
      ],
      "metadata": {
        "id": "kuylicYF7QxE",
        "colab": {
          "base_uri": "https://localhost:8080/"
        },
        "outputId": "26e54c5a-f2c9-4b52-e072-6d21e9b53306"
      },
      "execution_count": 16,
      "outputs": [
        {
          "output_type": "stream",
          "name": "stdout",
          "text": [
            "26\n"
          ]
        }
      ]
    },
    {
      "cell_type": "code",
      "source": [],
      "metadata": {
        "id": "vSzdt3V7PNpI"
      },
      "execution_count": 16,
      "outputs": []
    },
    {
      "cell_type": "markdown",
      "source": [
        "## 2. RECURSION EN FUNCIONES"
      ],
      "metadata": {
        "id": "_k1Kj5eQPXDG"
      }
    },
    {
      "cell_type": "markdown",
      "source": [
        "* Python tambien acepta la recursion de funciones, lo que significa que **una funcion definida puede llamarse a si misma.**\n",
        "\n",
        "* La recursion significa: que una funcion se llama a si misma, esto tiene la ventaja de permitir recorrer los datos para obtener un resultado.\n",
        "\n",
        "* El desarrollador debe tener mucho cuidado con la recursion, ya que es facil cometer errores al escribir una funcion que nunca termina o que consume demasiada memoria o potencia del procesador.\n",
        "\n",
        "* Sin embargo, cuando se escribe correctamente, la recursion puede ser un enfoque de programacion muy eficiente y matematicamente elegante.\n",
        "\n",
        "* tri_recursion(): es una funcion que hemos definido para llamarse a si misma, usamos la variable **k** como dato, que decrementa(-1) cada vez que realizamos la recursion, la recursion finaliza cuando la condicion no es mayor que 0 (es decir, cuando es 0)"
      ],
      "metadata": {
        "id": "wL3-EJjKPbg7"
      }
    },
    {
      "cell_type": "code",
      "source": [
        "def tri_recursion(k):\n",
        "  if (k > 0):\n",
        "    result = k + tri_recursion(k - 1)\n",
        "    print(result)\n",
        "  else:\n",
        "    result = 0\n",
        "  return result\n",
        "\n",
        "print(\"Recursion Example Results\")\n",
        "tri_recursion(6)"
      ],
      "metadata": {
        "colab": {
          "base_uri": "https://localhost:8080/"
        },
        "id": "23_AQvKNPZgX",
        "outputId": "1ba76e7c-6a7d-457b-bd11-77887c6c8866"
      },
      "execution_count": 17,
      "outputs": [
        {
          "output_type": "stream",
          "name": "stdout",
          "text": [
            "Recursion Example Results\n",
            "1\n",
            "3\n",
            "6\n",
            "10\n",
            "15\n",
            "21\n"
          ]
        },
        {
          "output_type": "execute_result",
          "data": {
            "text/plain": [
              "21"
            ]
          },
          "metadata": {},
          "execution_count": 17
        }
      ]
    },
    {
      "cell_type": "markdown",
      "source": [
        "## 3.COINCIDENCIA DE PYTHON"
      ],
      "metadata": {
        "id": "-cfI0AY9ukGV"
      }
    },
    {
      "cell_type": "markdown",
      "source": [
        "La match funcion declaracion se utiliza para realizar diferentes acciones segun diferentes condicionales."
      ],
      "metadata": {
        "id": "Jv5HUgftu7cq"
      }
    },
    {
      "cell_type": "markdown",
      "source": [
        "* LA DECLARACION MATCH DE PYTHON"
      ],
      "metadata": {
        "id": "ypILLq22vF4S"
      }
    },
    {
      "cell_type": "markdown",
      "source": [
        "En lugar de escribir muchas if..else declaraciones, puedes utilizar la match declaracion.\n",
        "\n",
        "La match declaracion seleciona uno de muchos bloques de codigo que se ejecutaran."
      ],
      "metadata": {
        "id": "7BVcLd0RvQZK"
      }
    },
    {
      "cell_type": "markdown",
      "source": [
        "* SINTAXIS:"
      ],
      "metadata": {
        "id": "MmbUT3nnwX8M"
      }
    },
    {
      "cell_type": "code",
      "source": [
        "\"\"\"\n",
        "match expression:\n",
        "  case x:\n",
        "     code block\n",
        "  case y:\n",
        "     code block\n",
        "  case z:\n",
        "     code block\n",
        "\"\"\""
      ],
      "metadata": {
        "colab": {
          "base_uri": "https://localhost:8080/",
          "height": 0
        },
        "id": "8d_OowSjudcm",
        "outputId": "63cfdc5d-2057-4cdc-ff43-74cd20fc9695"
      },
      "execution_count": 18,
      "outputs": [
        {
          "output_type": "execute_result",
          "data": {
            "text/plain": [
              "'\\nmatch expression:\\n  case x:\\n     code block\\n  case y:\\n     code block\\n  case z:\\n     code block\\n'"
            ],
            "application/vnd.google.colaboratory.intrinsic+json": {
              "type": "string"
            }
          },
          "metadata": {},
          "execution_count": 18
        }
      ]
    },
    {
      "cell_type": "markdown",
      "source": [
        "asi es como funciona:\n",
        "\n",
        "1. La **match** espresion se evalua una vez\n",
        "2. El valor de la expresion se compara con los valores de cada case\n",
        "3. Si hay una coincidencia, se ejecutara el bloque de codigo asociado\n",
        "\n"
      ],
      "metadata": {
        "id": "TASrab6ew0MP"
      }
    },
    {
      "cell_type": "code",
      "source": [
        "\"\"\"\n",
        "El sigueiente ejemplo utilza el numero de dia de la semana para imprimir\n",
        "el nombre del dia de la smeana:\n",
        "\"\"\""
      ],
      "metadata": {
        "colab": {
          "base_uri": "https://localhost:8080/",
          "height": 0
        },
        "id": "cRSszNZ9wsbB",
        "outputId": "c5da2aa9-797c-45c1-d276-be28ceadfbf1"
      },
      "execution_count": 19,
      "outputs": [
        {
          "output_type": "execute_result",
          "data": {
            "text/plain": [
              "'\\nEl sigueiente ejemplo utilza el numero de dia de la semana para imprimir\\nel nombre del dia de la smeana:\\n'"
            ],
            "application/vnd.google.colaboratory.intrinsic+json": {
              "type": "string"
            }
          },
          "metadata": {},
          "execution_count": 19
        }
      ]
    },
    {
      "cell_type": "code",
      "source": [
        "day = 4\n",
        "match day:\n",
        "  case 1:\n",
        "    print('Monday')\n",
        "  case 2:\n",
        "    print('Tuesday')\n",
        "  case 3:\n",
        "    print('Wednesday')\n",
        "  case 4:\n",
        "    print('Thursday')\n",
        "  case 5:\n",
        "    print('Friday')\n",
        "  case 6:\n",
        "    print('Saturday')\n",
        "  case 7:\n",
        "    print('Sunday')"
      ],
      "metadata": {
        "colab": {
          "base_uri": "https://localhost:8080/"
        },
        "id": "3X5raxiXxher",
        "outputId": "7ec669d8-4673-48b5-9adc-555dec0b80c7"
      },
      "execution_count": 20,
      "outputs": [
        {
          "output_type": "stream",
          "name": "stdout",
          "text": [
            "Thursday\n"
          ]
        }
      ]
    },
    {
      "cell_type": "markdown",
      "source": [
        "* VALOR PREDETERMINADO"
      ],
      "metadata": {
        "id": "d0Ok1BkJ0KjM"
      }
    },
    {
      "cell_type": "markdown",
      "source": [
        "Utilice el caracter subrayado _ como utlimo valor de caso si desea que se ejecute un bloque de codigo cuando no haya otras coincidencias"
      ],
      "metadata": {
        "id": "P655mjnW0NE0"
      }
    },
    {
      "cell_type": "code",
      "source": [
        "day = 42\n",
        "match day:\n",
        "  case 1:\n",
        "    print('Monday')\n",
        "  case 2:\n",
        "    print('Tuesday')\n",
        "  case 3:\n",
        "    print('Wednesday')\n",
        "  case 4:\n",
        "    print('Thursday')\n",
        "  case 5:\n",
        "    print('Friday')\n",
        "  case 6:\n",
        "    print('Saturday')\n",
        "  case 7:\n",
        "    print('Sunday')\n",
        "  case _:\n",
        "    print('OPCION INVALIDA!!')"
      ],
      "metadata": {
        "colab": {
          "base_uri": "https://localhost:8080/"
        },
        "id": "ZEhhao_s0JLm",
        "outputId": "02619ada-60b8-42d3-822e-6035b91a96af"
      },
      "execution_count": 21,
      "outputs": [
        {
          "output_type": "stream",
          "name": "stdout",
          "text": [
            "OPCION INVALIDA!!\n"
          ]
        }
      ]
    },
    {
      "cell_type": "markdown",
      "source": [
        "El valor _ siempre concidira, por lo que es importante colocarlo como ultimo caso para que se comporte como caso predeterminado."
      ],
      "metadata": {
        "id": "7A1Je46k03Tx"
      }
    },
    {
      "cell_type": "markdown",
      "source": [
        "* COMBINAR VALORES"
      ],
      "metadata": {
        "id": "qumkJ1g01HV9"
      }
    },
    {
      "cell_type": "markdown",
      "source": [
        "Utilce el caracter de barra vertical | como operador o en la evaluacion **de caso** para verificar si hay mas de una coincidencia de valores en un caso:"
      ],
      "metadata": {
        "id": "2A5v3DWR1TrL"
      }
    },
    {
      "cell_type": "code",
      "source": [
        "day = 1\n",
        "match day:\n",
        "  case 1 | 2 | 3 | 4 | 5:\n",
        "    print('Today is a weekday')\n",
        "  case 6 | 7:\n",
        "    print('I love weekends!')"
      ],
      "metadata": {
        "colab": {
          "base_uri": "https://localhost:8080/"
        },
        "id": "Y0C5yWI00vFv",
        "outputId": "5dab44dd-237c-40c7-d2f6-f4726d286566"
      },
      "execution_count": 22,
      "outputs": [
        {
          "output_type": "stream",
          "name": "stdout",
          "text": [
            "Today is a weekday\n"
          ]
        }
      ]
    },
    {
      "cell_type": "markdown",
      "source": [
        "* SENTENCIAS IF COMO GUARDIAS"
      ],
      "metadata": {
        "id": "aObg7BC23wMV"
      }
    },
    {
      "cell_type": "markdown",
      "source": [
        "Puede agregar if declaraciones en la evaluacion del caso como una verificaion de condicion adicional:"
      ],
      "metadata": {
        "id": "BQGAvpZs39V_"
      }
    },
    {
      "cell_type": "code",
      "source": [
        "month = 5\n",
        "day = 4\n",
        "match day:\n",
        "  case 1 | 2 | 3 | 4 | 5 if month == 4:\n",
        "    print('A weekday in April')\n",
        "  case 1 | 2 | 3 | 4 | 5 if month == 5:\n",
        "    print('A weekday in May')\n",
        "  case _:\n",
        "    print('No match')"
      ],
      "metadata": {
        "colab": {
          "base_uri": "https://localhost:8080/"
        },
        "id": "DsJyUmE53kzb",
        "outputId": "7d5a009e-bc49-43e3-9947-449c6ee2ee82"
      },
      "execution_count": 23,
      "outputs": [
        {
          "output_type": "stream",
          "name": "stdout",
          "text": [
            "A weekday in May\n"
          ]
        }
      ]
    },
    {
      "cell_type": "markdown",
      "source": [
        "## 4. PYTHON LAMBDA"
      ],
      "metadata": {
        "id": "4MwL_g0F575j"
      }
    },
    {
      "cell_type": "markdown",
      "source": [
        "Una funcion lambda es una pequeña funcion anonima.\n",
        "Una funcion lambda puede tomar cualquier numero de argumentos,pero solo puede tener una expresion"
      ],
      "metadata": {
        "id": "AZQ9Os9M6Lih"
      }
    },
    {
      "cell_type": "markdown",
      "source": [
        "**SINTAXIS**\n",
        "\n",
        "lambda arguments : expresion"
      ],
      "metadata": {
        "id": "nYyUbdkj7Mrd"
      }
    },
    {
      "cell_type": "markdown",
      "source": [
        "Se ejecutara la expresion y se devuelve el resultado:"
      ],
      "metadata": {
        "id": "1-NTtG8X7WWC"
      }
    },
    {
      "cell_type": "code",
      "source": [
        "#Agregue 10 al argumento a y devuelva el resultado:\n",
        "\n",
        "x = lambda a: a + 10\n",
        "print(x(5))"
      ],
      "metadata": {
        "colab": {
          "base_uri": "https://localhost:8080/"
        },
        "id": "Y-xQBwqM5zdA",
        "outputId": "47674ad2-8c47-432b-9a0c-16c7468bd6a6"
      },
      "execution_count": 24,
      "outputs": [
        {
          "output_type": "stream",
          "name": "stdout",
          "text": [
            "15\n"
          ]
        }
      ]
    },
    {
      "cell_type": "markdown",
      "source": [
        "Las funciones lambda pueden tomar cualquier numero de argumentos:"
      ],
      "metadata": {
        "id": "TCPWnsuI8YOx"
      }
    },
    {
      "cell_type": "code",
      "source": [
        "#Multiplica un argumento a por otro b y devuelve el resultado:\n",
        "x = lambda a, b: a * b\n",
        "print(x(5,6))"
      ],
      "metadata": {
        "colab": {
          "base_uri": "https://localhost:8080/"
        },
        "id": "TsvqcA-x8W6d",
        "outputId": "eaff2330-8c5a-4059-cec9-7b0a9d9e4169"
      },
      "execution_count": 25,
      "outputs": [
        {
          "output_type": "stream",
          "name": "stdout",
          "text": [
            "30\n"
          ]
        }
      ]
    },
    {
      "cell_type": "code",
      "source": [
        "#Resume el argumento a,b, y c y devuelve el resultado:\n",
        "\n",
        "x = lambda a,b,c : a + b + c\n",
        "print(x(5,6,2))"
      ],
      "metadata": {
        "colab": {
          "base_uri": "https://localhost:8080/"
        },
        "id": "o6B8g-zQ80BC",
        "outputId": "c918dbd3-6e86-415f-cea7-bdf1d2b99a08"
      },
      "execution_count": 26,
      "outputs": [
        {
          "output_type": "stream",
          "name": "stdout",
          "text": [
            "13\n"
          ]
        }
      ]
    },
    {
      "cell_type": "markdown",
      "source": [
        "* POR QUE UTILIZAR FUNCIONES LAMBDA?"
      ],
      "metadata": {
        "id": "GqhF7vrZ9Liw"
      }
    },
    {
      "cell_type": "markdown",
      "source": [
        "El poder de lambda se muestra mejor cuando se utiliza como una funcion anonima dentro de otra funcion.\n",
        "\n",
        "Digamos que tienes una definicion de funcion que toma un argumento y ese argumento se multiplicara por un numero desconocido:"
      ],
      "metadata": {
        "id": "r7N-0rzq9QqT"
      }
    },
    {
      "cell_type": "code",
      "source": [
        "def myfunc(n):\n",
        "  return lambda a : a * n"
      ],
      "metadata": {
        "id": "LsPGnYQ19I74"
      },
      "execution_count": 27,
      "outputs": []
    },
    {
      "cell_type": "markdown",
      "source": [
        "Utilice esa definicion de funcionn para crear una funcion que siempre duplique el numero que envie:"
      ],
      "metadata": {
        "id": "QuksX1iWJDYm"
      }
    },
    {
      "cell_type": "code",
      "source": [
        "def myfunc(n):\n",
        "  return lambda a : a * n\n",
        "\n",
        "mydoubler = myfunc(2)\n",
        "\n",
        "print(mydoubler(11))"
      ],
      "metadata": {
        "colab": {
          "base_uri": "https://localhost:8080/"
        },
        "id": "WgIjsXx4I8VO",
        "outputId": "dc5458af-c249-448f-bf01-3fbeef6927a8"
      },
      "execution_count": 28,
      "outputs": [
        {
          "output_type": "stream",
          "name": "stdout",
          "text": [
            "22\n"
          ]
        }
      ]
    },
    {
      "cell_type": "markdown",
      "source": [
        "O bien, utilice la misma definicion de funcion para crear una funcion triplique el numero que envie:\n"
      ],
      "metadata": {
        "id": "P8-eLno-LQQ5"
      }
    },
    {
      "cell_type": "code",
      "source": [
        "def myfunc(n):\n",
        "  return lambda a: a *n\n",
        "\n",
        "mytripler = myfunc(3)\n",
        "\n",
        "print(mytripler(11))"
      ],
      "metadata": {
        "colab": {
          "base_uri": "https://localhost:8080/"
        },
        "id": "-W_nKZ4vLEDY",
        "outputId": "086808a8-9428-4a32-85c6-325fedc86f9e"
      },
      "execution_count": 29,
      "outputs": [
        {
          "output_type": "stream",
          "name": "stdout",
          "text": [
            "33\n"
          ]
        }
      ]
    },
    {
      "cell_type": "markdown",
      "source": [
        "O bien, utilice la misma definicion de funcion para realizar ambas funciones, en el mismo programa:"
      ],
      "metadata": {
        "id": "9w92EvhVMCPa"
      }
    },
    {
      "cell_type": "code",
      "source": [
        "def myfunc(n):\n",
        "  return lambda a : a * n\n",
        "\n",
        "mydoubler = myfunc(2)\n",
        "mytripler = myfunc(3)\n",
        "\n",
        "print(mydoubler(11))\n",
        "print(mytripler(11))"
      ],
      "metadata": {
        "colab": {
          "base_uri": "https://localhost:8080/"
        },
        "id": "Fz9bTQ-kL7GR",
        "outputId": "26784ace-f96e-4291-c56a-d046a0da28c0"
      },
      "execution_count": 30,
      "outputs": [
        {
          "output_type": "stream",
          "name": "stdout",
          "text": [
            "22\n",
            "33\n"
          ]
        }
      ]
    },
    {
      "cell_type": "markdown",
      "source": [
        "Utilice funciones lambda cuando se requiera una funcion anonima por un corto periodo de tiempo"
      ],
      "metadata": {
        "id": "6kf3e-mrMVWc"
      }
    },
    {
      "cell_type": "markdown",
      "source": [
        "##5. MATRICES (ARRAYS) DE PYTHON"
      ],
      "metadata": {
        "id": "meVmkK1gMk5u"
      }
    },
    {
      "cell_type": "markdown",
      "source": [
        "**NOTA:** python no tiene soprote integrado para matrcies pero se pueden usar listas de python en su lugar"
      ],
      "metadata": {
        "id": "ng9gzOOXQ1_y"
      }
    },
    {
      "cell_type": "markdown",
      "source": [
        "* MATRICES"
      ],
      "metadata": {
        "id": "kYMHMgPMRBLZ"
      }
    },
    {
      "cell_type": "markdown",
      "source": [
        "Las matrices se utilizan para almacenar multiples valores en una sola variable:"
      ],
      "metadata": {
        "id": "m9hgNVBhRD3A"
      }
    },
    {
      "cell_type": "code",
      "source": [
        "#Crea una matriz que contenga los nombres de los automoviles:\n",
        "cars = ['ford', 'volvo','BMW']"
      ],
      "metadata": {
        "id": "ffyWFEPeMQ7C"
      },
      "execution_count": 31,
      "outputs": []
    },
    {
      "cell_type": "markdown",
      "source": [
        "* QUE ES UN ARRAY?"
      ],
      "metadata": {
        "id": "XX2VDHldRwrk"
      }
    },
    {
      "cell_type": "markdown",
      "source": [
        "Una matriz es una variable especial, que puede contener mas de unvalor a la vez.\n",
        "\n",
        "Si tiene una lista de elementos (una lista de nombres de automoviles, por ejemplo), almacenar los automoviles en variables individuales podria verse asi:"
      ],
      "metadata": {
        "id": "6mS6eStxRzXQ"
      }
    },
    {
      "cell_type": "markdown",
      "source": [
        "* car1 = 'ford'\n",
        "* car2 = 'volvo'\n",
        "* car3 = 'bmw'"
      ],
      "metadata": {
        "id": "-dLqEDxdSRbC"
      }
    },
    {
      "cell_type": "markdown",
      "source": [
        "sin embargo, que pasa si quieres recorrer los coches y encontrar uno especifico? y si no tienes 3 coches, sino 300?\n",
        "\n",
        "Un matriz puede contener muchos valores bajo un solo nombre y se puede acceder a los valores haciendo referencia a un numero de indice"
      ],
      "metadata": {
        "id": "FTn85VNrScAK"
      }
    },
    {
      "cell_type": "markdown",
      "source": [
        "* ACCEDE A LOS ELEMENTOS DE UNA MATRIZ"
      ],
      "metadata": {
        "id": "M9nJWgNRTSK3"
      }
    },
    {
      "cell_type": "markdown",
      "source": [
        "Para hacer referencia a un elemento de la matriz, haga referencia al numero de indice"
      ],
      "metadata": {
        "id": "3_SA6sjQTY4k"
      }
    },
    {
      "cell_type": "code",
      "source": [
        "#Obtenga el valor del primer elemento de la matriz\n",
        "\n",
        "cars = ['ford', 'volvo','BMW']\n",
        "x = cars[0]\n",
        "x"
      ],
      "metadata": {
        "colab": {
          "base_uri": "https://localhost:8080/",
          "height": 0
        },
        "id": "lZJlLhL6RqGn",
        "outputId": "dbef0296-4eac-4680-f880-bc1a8500e580"
      },
      "execution_count": 32,
      "outputs": [
        {
          "output_type": "execute_result",
          "data": {
            "text/plain": [
              "'ford'"
            ],
            "application/vnd.google.colaboratory.intrinsic+json": {
              "type": "string"
            }
          },
          "metadata": {},
          "execution_count": 32
        }
      ]
    },
    {
      "cell_type": "code",
      "source": [
        "#Modificar el valor del primer elemento de la matriz:\n",
        "cars[0] = 'toyota'\n",
        "cars"
      ],
      "metadata": {
        "colab": {
          "base_uri": "https://localhost:8080/"
        },
        "id": "vJBJ-V2dT1pF",
        "outputId": "13a50d90-5b20-4f58-854a-ef48405b8a11"
      },
      "execution_count": 33,
      "outputs": [
        {
          "output_type": "execute_result",
          "data": {
            "text/plain": [
              "['toyota', 'volvo', 'BMW']"
            ]
          },
          "metadata": {},
          "execution_count": 33
        }
      ]
    },
    {
      "cell_type": "markdown",
      "source": [
        "* LA LONGITUD DE UNA MATRIZ"
      ],
      "metadata": {
        "id": "ph3Hkrb5UO7z"
      }
    },
    {
      "cell_type": "markdown",
      "source": [
        "Utilice el len() metodo para devolver la longitud de una matriz (la cantidad de elementos en una matriz)"
      ],
      "metadata": {
        "id": "J0wA8P6pUSl3"
      }
    },
    {
      "cell_type": "code",
      "source": [
        "p = len(cars)\n",
        "p"
      ],
      "metadata": {
        "colab": {
          "base_uri": "https://localhost:8080/"
        },
        "id": "RdczDGzUUJ0-",
        "outputId": "1787ac94-eeb1-4e6b-a18c-334b4cbf86c8"
      },
      "execution_count": 34,
      "outputs": [
        {
          "output_type": "execute_result",
          "data": {
            "text/plain": [
              "3"
            ]
          },
          "metadata": {},
          "execution_count": 34
        }
      ]
    },
    {
      "cell_type": "markdown",
      "source": [
        "* ELEMENTOS DE MATRIZ EN BUCLE"
      ],
      "metadata": {
        "id": "aHjIqrraUqp2"
      }
    },
    {
      "cell_type": "markdown",
      "source": [
        "Puedes usar el for in bucle para recorrer todos los elementos de ua matriz"
      ],
      "metadata": {
        "id": "61wZRz52UuCM"
      }
    },
    {
      "cell_type": "code",
      "source": [
        "#Imprima cada elemento dela cars matriz:\n",
        "\n",
        "for x in cars:\n",
        "  print(x)"
      ],
      "metadata": {
        "colab": {
          "base_uri": "https://localhost:8080/"
        },
        "id": "hUNm1wxfUhFI",
        "outputId": "ca2f42e0-1156-4808-c789-f9787b3cd7f8"
      },
      "execution_count": 35,
      "outputs": [
        {
          "output_type": "stream",
          "name": "stdout",
          "text": [
            "toyota\n",
            "volvo\n",
            "BMW\n"
          ]
        }
      ]
    },
    {
      "cell_type": "markdown",
      "source": [
        "* AGREGAR ELEMENTOS A UNA MATRIZ"
      ],
      "metadata": {
        "id": "a7eRW0rUU9dH"
      }
    },
    {
      "cell_type": "markdown",
      "source": [
        "Pude utilizar el append() metodo para agregar un elemento a una matriz"
      ],
      "metadata": {
        "id": "p_LV-shgVCn3"
      }
    },
    {
      "cell_type": "code",
      "source": [
        "#Añade un elemento mas a la cars matriz\n",
        "cars.append('honda')\n",
        "cars"
      ],
      "metadata": {
        "id": "KIQj8nwCU5th",
        "colab": {
          "base_uri": "https://localhost:8080/"
        },
        "outputId": "ef5a4627-4fa1-468e-9be6-a3baf1386ddb"
      },
      "execution_count": 36,
      "outputs": [
        {
          "output_type": "execute_result",
          "data": {
            "text/plain": [
              "['toyota', 'volvo', 'BMW', 'honda']"
            ]
          },
          "metadata": {},
          "execution_count": 36
        }
      ]
    },
    {
      "cell_type": "markdown",
      "source": [
        "* ELIMINACION DE ELEMENTOS DE LA MATRIZ"
      ],
      "metadata": {
        "id": "ulVMI7KrVjHS"
      }
    },
    {
      "cell_type": "markdown",
      "source": [
        "Puede utilizar el pop() metdo para eliminar un elementos de la matriz"
      ],
      "metadata": {
        "id": "0cYB-StnVorN"
      }
    },
    {
      "cell_type": "code",
      "source": [
        "#Eliminar el segundo elemento de cars matriz:\n",
        "cars.pop(1)"
      ],
      "metadata": {
        "id": "VWeqQ3fJVRKK",
        "colab": {
          "base_uri": "https://localhost:8080/",
          "height": 0
        },
        "outputId": "7aeed82f-16d1-419f-fb3a-30485e2be448"
      },
      "execution_count": 37,
      "outputs": [
        {
          "output_type": "execute_result",
          "data": {
            "text/plain": [
              "'volvo'"
            ],
            "application/vnd.google.colaboratory.intrinsic+json": {
              "type": "string"
            }
          },
          "metadata": {},
          "execution_count": 37
        }
      ]
    },
    {
      "cell_type": "markdown",
      "source": [
        "tambien puedes utilizar remove() metodo para eliminar un elemento de la matriz"
      ],
      "metadata": {
        "id": "4MoSKIUgV4gq"
      }
    },
    {
      "cell_type": "markdown",
      "source": [
        "##6. CLASES Y OBJETOS DE PYTHON"
      ],
      "metadata": {
        "id": "ohGXm3EX7n1O"
      }
    },
    {
      "cell_type": "markdown",
      "source": [
        "Python es un lenguaje de programacion orientado a objetos\n",
        "\n",
        "Casi todo en python es un objeto, con sus propiedades y metodos.\n",
        "\n",
        "Una clase es como un constructor de objetos, o un plano para crear objetos\n"
      ],
      "metadata": {
        "id": "Hff1hRPc7x8E"
      }
    },
    {
      "cell_type": "markdown",
      "source": [
        "* CREAR UNA CLASE"
      ],
      "metadata": {
        "id": "gaHZMm-M8N_J"
      }
    },
    {
      "cell_type": "markdown",
      "source": [
        "Parac crear una clase, utilice la palabra clvae **class**"
      ],
      "metadata": {
        "id": "mHzDszBW8TY-"
      }
    },
    {
      "cell_type": "code",
      "source": [
        "#Crea una clase llamada MyClass, con una propiedad llamada x:\n",
        "class MyClass: #Clase\n",
        "  x = 5        #Propidad"
      ],
      "metadata": {
        "id": "77oAmfbH7D3e"
      },
      "execution_count": 38,
      "outputs": []
    },
    {
      "cell_type": "markdown",
      "source": [
        "* CREAR OBJETO"
      ],
      "metadata": {
        "id": "5zXl3wxZ8mb8"
      }
    },
    {
      "cell_type": "markdown",
      "source": [
        "Ahora podemos usar la clase llamada MyClass para crear objetos:"
      ],
      "metadata": {
        "id": "2BBXokAZ8oae"
      }
    },
    {
      "cell_type": "code",
      "source": [
        "#Crea un objeto llamado p1 e imprime el valor de x:\n",
        "p1 = MyClass() #objeto\n",
        "print(p1.x)"
      ],
      "metadata": {
        "colab": {
          "base_uri": "https://localhost:8080/"
        },
        "id": "8Wu-9vXP8hT8",
        "outputId": "26a26b73-5678-49b7-8cdc-47cdf5877f4f"
      },
      "execution_count": 39,
      "outputs": [
        {
          "output_type": "stream",
          "name": "stdout",
          "text": [
            "5\n"
          ]
        }
      ]
    },
    {
      "cell_type": "markdown",
      "source": [
        "* LA FUNCION _INIT_()"
      ],
      "metadata": {
        "id": "IweCHCSA9MK7"
      }
    },
    {
      "cell_type": "markdown",
      "source": [
        "* Los ejemplos anteriores son classes y objetos en su forma mas simple y no son realmente utiles en aplicacines de la vida real.\n",
        "\n",
        "* Para entender el significado de las clase tenemos que entender la funcion incorporada _init_()\n",
        "\n",
        "* Todas las clases tienen una funcion llamada _init_(), que siempre se ejecuta cuando se incia la clase\n",
        "\n",
        "* Utilice la _init_() funcion para asignar valores a las propiedades del objeto u otros operaciones que sean necesarias realizar cuando se crea el objeto:"
      ],
      "metadata": {
        "id": "fayTWrX69QYb"
      }
    },
    {
      "cell_type": "code",
      "source": [
        "#Crea una clase llamada personas, usa la __init__() funcion para asignar\n",
        "#valores para el nombre y la edad:\n",
        "class Person:\n",
        "  def __init__(self, name, age):\n",
        "    self.name = name\n",
        "    self.age = age\n",
        "\n",
        "p1 = Person('John', 36)\n",
        "\n",
        "print(p1.name)\n",
        "print(p1.age)"
      ],
      "metadata": {
        "colab": {
          "base_uri": "https://localhost:8080/"
        },
        "id": "9JY1kI_i88O-",
        "outputId": "fbf3da93-79c7-4ff5-ef59-802502e854cc"
      },
      "execution_count": 40,
      "outputs": [
        {
          "output_type": "stream",
          "name": "stdout",
          "text": [
            "John\n",
            "36\n"
          ]
        }
      ]
    },
    {
      "cell_type": "markdown",
      "source": [
        "* LA FUNCION _STR_()"
      ],
      "metadata": {
        "id": "6MhB0GbCTSVy"
      }
    },
    {
      "cell_type": "markdown",
      "source": [
        "* La _str_() funcion controla lo que debe devolverse cuando el objeto de clase se representa como una cadena\n",
        "\n",
        "* Si \"_str_()\" funcion no esta configurada, se devuelve la representacion de cadena del objeto"
      ],
      "metadata": {
        "id": "4WdFcyE7TWuE"
      }
    },
    {
      "cell_type": "code",
      "source": [
        "#La representacion de cadena de un objeto sin la _str_() funcion:\n",
        "\n",
        "class Person:\n",
        "  def __init__(self, name, age):\n",
        "    self.name = name\n",
        "    self.age = age\n",
        "\n",
        "p1 = Person('John', 36) #Objeto de la clase\n",
        "\n",
        "print(p1)"
      ],
      "metadata": {
        "colab": {
          "base_uri": "https://localhost:8080/"
        },
        "id": "sI_k5PsxTLRT",
        "outputId": "eb9d7ed9-e246-47d7-87f2-8d26ba70e72e"
      },
      "execution_count": 41,
      "outputs": [
        {
          "output_type": "stream",
          "name": "stdout",
          "text": [
            "<__main__.Person object at 0x7ec92cf78b50>\n"
          ]
        }
      ]
    },
    {
      "cell_type": "code",
      "source": [
        "#La representacion de cadena de un objeto CON la _str_() funcion:\n",
        "class Person:\n",
        "  def __init__(self,name, age):\n",
        "    self.name = name\n",
        "    self.age = age\n",
        "\n",
        "  def __str__(self):\n",
        "    return f\"{self.name}({self.age})\"\n",
        "\n",
        "p1 = Person('John', 36) #Objeto de la clase\n",
        "\n",
        "print(p1)"
      ],
      "metadata": {
        "colab": {
          "base_uri": "https://localhost:8080/"
        },
        "id": "sE_jqPShUOq8",
        "outputId": "04237905-e379-494d-9213-60129aa2e9d6"
      },
      "execution_count": 42,
      "outputs": [
        {
          "output_type": "stream",
          "name": "stdout",
          "text": [
            "John(36)\n"
          ]
        }
      ]
    },
    {
      "cell_type": "markdown",
      "source": [
        "* METODOS DE OBJETO"
      ],
      "metadata": {
        "id": "Cw6P9CBjVpkT"
      }
    },
    {
      "cell_type": "markdown",
      "source": [
        "Los objetos tambien pueden contener metodos. Los metodos en los objetos son funciones que pertenecen al objeto.\n",
        "\n",
        "Creemos un metodo en la clase persona:"
      ],
      "metadata": {
        "id": "3U7ZZDNZVuAI"
      }
    },
    {
      "cell_type": "code",
      "source": [
        "#Inserte una funcion que imprima un saludo y ejecutela en el objeto p1:\n",
        "\n",
        "class Person:\n",
        "  def __init__(self, name, age):\n",
        "    self.name = name\n",
        "    self.age = age\n",
        "  def myfunc(self):\n",
        "    print('Hello my name is ' + self.name)\n",
        "\n",
        "p1 = Person('John',36)\n",
        "p1.myfunc()"
      ],
      "metadata": {
        "colab": {
          "base_uri": "https://localhost:8080/"
        },
        "id": "a7Db703KVeRZ",
        "outputId": "d236b586-56c3-4ca3-9fbb-82ea2e47af00"
      },
      "execution_count": 43,
      "outputs": [
        {
          "output_type": "stream",
          "name": "stdout",
          "text": [
            "Hello my name is John\n"
          ]
        }
      ]
    },
    {
      "cell_type": "markdown",
      "source": [
        "**NOTA:** El **self** parametro es una referencia a la instancia actual de la clase y se utilza para acceder a las variables que pertenecen a la clase"
      ],
      "metadata": {
        "id": "E_NrId-zXPlZ"
      }
    },
    {
      "cell_type": "markdown",
      "source": [
        "* PARAMETRO SELF"
      ],
      "metadata": {
        "id": "xQt62WIPXf_E"
      }
    },
    {
      "cell_type": "markdown",
      "source": [
        "El self parametro es una referencia a la instancia actual de la clase y se utiliza para acceeder alas variables que pertenecen a la clase.\n",
        "\n",
        "No es necesario que tenga nombre self, puedes llamarlo como quieras, pero tiene que ser el primer parametro de cualquier funcion de la clase:"
      ],
      "metadata": {
        "id": "D-IYQysLXh1j"
      }
    },
    {
      "cell_type": "code",
      "source": [
        "#Utilice las palabras mysillyobject y abc en lugar de self:\n",
        "\n",
        "class Person:\n",
        "  def __init__(mysillyobject, name, age):\n",
        "    mysillyobject.name = name\n",
        "    mysillyobject.age = age\n",
        "\n",
        "  def myfunc(abc):\n",
        "    print('Hello my name is ' + abc.name)\n",
        "\n",
        "p1 = Person('John',36)\n",
        "p1.myfunc()\n"
      ],
      "metadata": {
        "colab": {
          "base_uri": "https://localhost:8080/"
        },
        "id": "SYVonsCDW-Vm",
        "outputId": "4838120f-48fd-4e93-bce3-12a896693b2e"
      },
      "execution_count": 44,
      "outputs": [
        {
          "output_type": "stream",
          "name": "stdout",
          "text": [
            "Hello my name is John\n"
          ]
        }
      ]
    },
    {
      "cell_type": "markdown",
      "source": [
        "*  MODIFICAR PROPIEDADES DE OBJETO"
      ],
      "metadata": {
        "id": "z26lCIVGbx63"
      }
    },
    {
      "cell_type": "markdown",
      "source": [
        "Puedes modificar propiedades en objetos de esta manera:"
      ],
      "metadata": {
        "id": "xWleF5OKb5p4"
      }
    },
    {
      "cell_type": "code",
      "source": [
        "#Establezca la edad de p1 en 40:\n",
        "p1.age = 40"
      ],
      "metadata": {
        "id": "BkFIS8TNbwXe"
      },
      "execution_count": 45,
      "outputs": []
    },
    {
      "cell_type": "markdown",
      "source": [
        "* Eliminar propiedades de objeto"
      ],
      "metadata": {
        "id": "BKIVWKoccOkG"
      }
    },
    {
      "cell_type": "markdown",
      "source": [
        "Puede eliminar propiedades de objetos utilizando la del palabra clave:"
      ],
      "metadata": {
        "id": "zDSgDLSOcSzt"
      }
    },
    {
      "cell_type": "code",
      "source": [
        "#Eliminar propiedad de edad del objeto p1:\n",
        "del p1.age"
      ],
      "metadata": {
        "id": "rzq_48mFcKW-"
      },
      "execution_count": 46,
      "outputs": []
    },
    {
      "cell_type": "markdown",
      "source": [
        "* LA DECLARACION DE PASE"
      ],
      "metadata": {
        "id": "sxTR8UBfcywZ"
      }
    },
    {
      "cell_type": "markdown",
      "source": [
        "Class las definiciones no pueden estar vacias, pero si por alguna razon tienes una class definicion sin contenido, ponla en la pass declaracion para evitar obtner un error"
      ],
      "metadata": {
        "id": "g_6BjYSdc1RE"
      }
    },
    {
      "cell_type": "code",
      "source": [
        "class person:\n",
        "  pass"
      ],
      "metadata": {
        "id": "ibxZz6htco4I"
      },
      "execution_count": 47,
      "outputs": []
    },
    {
      "cell_type": "markdown",
      "source": [
        "##7. HERENCIA DE PYTHON"
      ],
      "metadata": {
        "id": "bm-PCIUddfVP"
      }
    },
    {
      "cell_type": "markdown",
      "source": [
        "* La herencia nos permite definir una clase que hereda todos los metodos y propiedades de otra clase.\n",
        "\n",
        "* **La clase padre** es la clase de la que se hereda, tambien llamada clase base.\n",
        "\n",
        "* **La clase hija** es la clase que hereda de otra clase, tambien llamda clase derivada\n"
      ],
      "metadata": {
        "id": "XR1hoHkTCawU"
      }
    },
    {
      "cell_type": "markdown",
      "source": [
        "* CREAR UNA CLASE PARA PADRES"
      ],
      "metadata": {
        "id": "zIjHVqAvC9if"
      }
    },
    {
      "cell_type": "markdown",
      "source": [
        "Cualquier clase puede ser una clase padre, por lo que la sintaxis es la misma que para crear cualquier otra clase:"
      ],
      "metadata": {
        "id": "-nibAYPTDCs7"
      }
    },
    {
      "cell_type": "code",
      "source": [
        "#Cree una clasellamada person, con propiedades firstname y un metodo: lastname printname\n",
        "\n",
        "class person:\n",
        "  def __init__(self, fname, lname):\n",
        "    self.firstname = fname\n",
        "    self.lastname = lname\n",
        "\n",
        "  def printname(self):\n",
        "    print(self.firstname, self.lastname)\n",
        "\n",
        "x = person('John', 'Doe')\n",
        "x.printname()"
      ],
      "metadata": {
        "id": "9v_MEzjvdXfF",
        "colab": {
          "base_uri": "https://localhost:8080/"
        },
        "outputId": "47b8ddbe-3aa4-4eb8-9cc7-6be27e4268a7"
      },
      "execution_count": 48,
      "outputs": [
        {
          "output_type": "stream",
          "name": "stdout",
          "text": [
            "John Doe\n"
          ]
        }
      ]
    },
    {
      "cell_type": "markdown",
      "source": [
        "* CREAR UNA CLASE SECUNDARIA"
      ],
      "metadata": {
        "id": "g2awJrL7QosL"
      }
    },
    {
      "cell_type": "markdown",
      "source": [
        "Para crear una clase que herede a funcionalidad de otra clase, envie la clase principal como parametro al crear la secundaria:"
      ],
      "metadata": {
        "id": "7wvGIirOQroV"
      }
    },
    {
      "cell_type": "code",
      "source": [
        "#Cree una clase llamada student, que heredara las propiedades y metodos de la person clase:\n",
        "\n",
        "class Student(person):\n",
        "  pass"
      ],
      "metadata": {
        "id": "sYynlu0cPDpO"
      },
      "execution_count": 49,
      "outputs": []
    },
    {
      "cell_type": "markdown",
      "source": [
        "**NOTA:** utilice la pass palabra clave cuando no desee agregar otras propiedades o metodos a la clase"
      ],
      "metadata": {
        "id": "kINvbpEqSf4v"
      }
    },
    {
      "cell_type": "markdown",
      "source": [
        "Ahora la clase estudiante tiene las mismas propiedades y metodos que la clase persona"
      ],
      "metadata": {
        "id": "hm0Zn2LXSqpT"
      }
    },
    {
      "cell_type": "code",
      "source": [
        "#Utilice la student clase para crear un objeto y luego ejecute el printame metodo:\n",
        "\n",
        "x = Student('mike','olsen')\n",
        "x.printname()"
      ],
      "metadata": {
        "colab": {
          "base_uri": "https://localhost:8080/"
        },
        "id": "3AGBGOp1RGaN",
        "outputId": "60a89ebb-98de-4263-8347-5742dfa5a637"
      },
      "execution_count": 50,
      "outputs": [
        {
          "output_type": "stream",
          "name": "stdout",
          "text": [
            "mike olsen\n"
          ]
        }
      ]
    },
    {
      "cell_type": "markdown",
      "source": [
        "* AGREGAR LA FUNCION __INIT__()"
      ],
      "metadata": {
        "id": "ia6C9_2LT1r7"
      }
    },
    {
      "cell_type": "markdown",
      "source": [
        "Hasta ahora hemos creado una clase hija que herede las propiedades y metodos de su clase padre\n",
        "\n",
        "Queremos agregar la init funcion a la clase secundaria (en lugar de las pass palabra clave)"
      ],
      "metadata": {
        "id": "RyTaOkLbT6oJ"
      }
    },
    {
      "cell_type": "markdown",
      "source": [
        "**NOTA:** la initi funcion se llama automaticamente cada vez que se utiliza la clase para crear un nuevo objeto"
      ],
      "metadata": {
        "id": "nIKcRVmeUNug"
      }
    },
    {
      "cell_type": "code",
      "source": [
        "#Añade la init funicon a la studenten clase\n",
        "class Student(person):\n",
        "  def __init__(self, fname, lname):\n",
        "   person.__init__(self, fname, lname)"
      ],
      "metadata": {
        "id": "YWO68YWETJ1l"
      },
      "execution_count": 51,
      "outputs": []
    },
    {
      "cell_type": "markdown",
      "source": [
        "* Al agregar la init funcion, la clase secundaria ya no heredara la init funcion de la clase principal"
      ],
      "metadata": {
        "id": "NgHEog9wVIBX"
      }
    },
    {
      "cell_type": "markdown",
      "source": [
        "**NOTA:** init funcion del niño anula la herencia de la init funcion padre"
      ],
      "metadata": {
        "id": "gIJyEBe2VYAN"
      }
    },
    {
      "cell_type": "markdown",
      "source": [
        "1. Para mantener la herencia de le funcion padre initi, agregue una llamada a la funcion padre init\n",
        "\n",
        "2. Ahora hemos agregado exitosamente la init funcion y conservando la herencia de la clase padre, y estamos listos para agregar funcionalidad en la init funcion"
      ],
      "metadata": {
        "id": "4ibXp404VirX"
      }
    },
    {
      "cell_type": "markdown",
      "source": [
        "* UTILICE LA FUNCION SUPER()"
      ],
      "metadata": {
        "id": "rLMQ4LfxWZat"
      }
    },
    {
      "cell_type": "markdown",
      "source": [
        "Python tambien tiene una super() funcion que hara que la clase hija herede todos los metodos y propiedades de su clase padre:"
      ],
      "metadata": {
        "id": "66ByZbVuWd7h"
      }
    },
    {
      "cell_type": "code",
      "source": [
        "class Student(person):\n",
        "  def __init__(seld, fname, lname):\n",
        "    super().__init__(fname, lname)"
      ],
      "metadata": {
        "id": "jEQMpxdyU_DK"
      },
      "execution_count": 52,
      "outputs": []
    },
    {
      "cell_type": "markdown",
      "source": [
        "Al utilizar la super() funcion, no es necesario utilizar el nombre del elemento padre, ya que heredara automaticamente los metodos y propiedades de su padre"
      ],
      "metadata": {
        "id": "jY6Wfl7ccBXA"
      }
    },
    {
      "cell_type": "markdown",
      "source": [
        "* AGREGAR PROPIEDADES\n"
      ],
      "metadata": {
        "id": "j9kfHVdicTQU"
      }
    },
    {
      "cell_type": "code",
      "source": [
        "#Agregue una propiedad llamada graduationyear a la Student clase:\n",
        "class Student(person):\n",
        "  def __init__(self, fname, lname):\n",
        "    super().__init__(fname, lname)\n",
        "    self.graduationyear = 2019"
      ],
      "metadata": {
        "id": "pVMqe4nLcAty"
      },
      "execution_count": 53,
      "outputs": []
    },
    {
      "cell_type": "markdown",
      "source": [
        "En el ejemplo a continuacion, el año 2019 debe ser una variable y pasarse a la student clase al crear objetos de estudiante.\n",
        "Para ello, agregue otro parametro a la init funcion."
      ],
      "metadata": {
        "id": "YvikK49dc12S"
      }
    },
    {
      "cell_type": "code",
      "source": [
        "#Agregue un year parametro y pase el año correcto al crear objetos:\n",
        "class Student(person):\n",
        "  def __init__(self, fname, lname, year):\n",
        "    super().__init__(fname, lname)\n",
        "    self.graduationyear = year\n",
        "\n",
        "x = Student('Mike', 'Olsen', 2029)"
      ],
      "metadata": {
        "id": "rn1_XQwzczIL"
      },
      "execution_count": 54,
      "outputs": []
    },
    {
      "cell_type": "markdown",
      "source": [
        "* AGREGAR METODOS"
      ],
      "metadata": {
        "id": "Ag4MRVwB3O0W"
      }
    },
    {
      "cell_type": "code",
      "source": [
        "#Agregue un metodo llamado welcome a la student clase:\n",
        "class Student(person):\n",
        "  def __init__(self, fname, lname, year):\n",
        "    super().__init__(fname, lname)\n",
        "    self.graduationyear = year\n",
        "\n",
        "  def welcome(self):\n",
        "    print('welcome', self.firstname, self.lastname, 'to the class of', self.graduationyear)"
      ],
      "metadata": {
        "id": "T6aIzN9k3MGo"
      },
      "execution_count": 55,
      "outputs": []
    },
    {
      "cell_type": "markdown",
      "source": [
        "si agrega un metodo en la clase secundaria con el mismo nombre que una funcion en la clase principal, se anulara la herencia del metodo principal"
      ],
      "metadata": {
        "id": "NF9GidiC4HcT"
      }
    },
    {
      "cell_type": "markdown",
      "source": [
        "##8. ITERADORES DE PYTHON"
      ],
      "metadata": {
        "id": "iNmgFRCA4gGF"
      }
    },
    {
      "cell_type": "markdown",
      "source": [
        "* Un iterador es un objeto que contiene un numero contable de valores\n",
        "* Un iterador es un objeto que se puede iterar, lo que significa que se pueden recorrer todos los valores\n",
        "* Tecnicamente, en python, un iterador es un objeto que implementa el protoclo iterador, que consta de los metodos __iter__() y __next__()"
      ],
      "metadata": {
        "id": "lJb0kB41NMPE"
      }
    },
    {
      "cell_type": "markdown",
      "source": [
        " ITERADOR VS ITERABLE"
      ],
      "metadata": {
        "id": "lS7sNO47NsiR"
      }
    },
    {
      "cell_type": "markdown",
      "source": [
        "* Las listas, tuplas, diccionarios y conjuntos son objetos iterables. Son contenedores iterables de los que se puede obtener un iterador.\n",
        "\n",
        "* Todos estos objetos tiene un iter() metodo que se utiliza para obtener un iterador"
      ],
      "metadata": {
        "id": "3Kz-mamFNxcP"
      }
    },
    {
      "cell_type": "code",
      "source": [
        "#Devuelve un iterador de una tupla e imprime cada valor:\n",
        "mytuple = ('apple', 'banana','cherry')\n",
        "myit = iter(mytuple)\n",
        "\n",
        "print(next(myit))\n",
        "print(next(myit))\n",
        "print(next(myit))"
      ],
      "metadata": {
        "id": "nBzb0RV44icB",
        "colab": {
          "base_uri": "https://localhost:8080/"
        },
        "outputId": "81edb2ba-8e5d-443a-e64b-d00ed08a7f00"
      },
      "execution_count": 56,
      "outputs": [
        {
          "output_type": "stream",
          "name": "stdout",
          "text": [
            "apple\n",
            "banana\n",
            "cherry\n"
          ]
        }
      ]
    },
    {
      "cell_type": "markdown",
      "source": [
        "Incluso las denas son objetos ietrables y pueden devolver un iterador:"
      ],
      "metadata": {
        "id": "WDE94BalPYGB"
      }
    },
    {
      "cell_type": "code",
      "source": [
        "#Las cadenas tambien son objetos iterables que contienen una secuencia de caracteres:\n",
        "mystr= 'banana'\n",
        "myit = iter(mystr)\n",
        "\n",
        "print(next(myit))\n",
        "print(next(myit))\n",
        "print(next(myit))\n",
        "print(next(myit))\n",
        "print(next(myit))\n",
        "print(next(myit))"
      ],
      "metadata": {
        "colab": {
          "base_uri": "https://localhost:8080/"
        },
        "id": "-H-pJ-YjPXYM",
        "outputId": "2931672d-8214-4fa7-a2b7-b47aced9da2f"
      },
      "execution_count": 57,
      "outputs": [
        {
          "output_type": "stream",
          "name": "stdout",
          "text": [
            "b\n",
            "a\n",
            "n\n",
            "a\n",
            "n\n",
            "a\n"
          ]
        }
      ]
    },
    {
      "cell_type": "markdown",
      "source": [
        "* RECORRIENDO UN ITERADOR"
      ],
      "metadata": {
        "id": "hvxueS2_Pyua"
      }
    },
    {
      "cell_type": "markdown",
      "source": [
        "Tambien podemos usar un for bucle para iterar a travez de un objeto iterable:"
      ],
      "metadata": {
        "id": "dL6LvB0lP2D6"
      }
    },
    {
      "cell_type": "code",
      "source": [
        "#Iterar los valores de una tupla:\n",
        "mytuple = ('apple','banana','cherry')\n",
        "for x in mytuple:\n",
        "  print(x)"
      ],
      "metadata": {
        "colab": {
          "base_uri": "https://localhost:8080/"
        },
        "id": "5Aei20nQP9jJ",
        "outputId": "53af92fe-6623-4f05-9b04-da531408ff3f"
      },
      "execution_count": 58,
      "outputs": [
        {
          "output_type": "stream",
          "name": "stdout",
          "text": [
            "apple\n",
            "banana\n",
            "cherry\n"
          ]
        }
      ]
    },
    {
      "cell_type": "code",
      "source": [
        "#Iterar los caracteres de una cadena:\n",
        "mystr = 'banana'\n",
        "for x in mystr:\n",
        "  print(x)"
      ],
      "metadata": {
        "colab": {
          "base_uri": "https://localhost:8080/"
        },
        "id": "wdVrZ_daQXBk",
        "outputId": "067c3107-335a-4a14-e7fb-77b8f25ce2f3"
      },
      "execution_count": 59,
      "outputs": [
        {
          "output_type": "stream",
          "name": "stdout",
          "text": [
            "b\n",
            "a\n",
            "n\n",
            "a\n",
            "n\n",
            "a\n"
          ]
        }
      ]
    },
    {
      "cell_type": "markdown",
      "source": [
        "El for bucle en realidad crea un objeto iterador y ejecuta el next() metodo para cada bucle"
      ],
      "metadata": {
        "id": "kfZDTfgZQkY2"
      }
    },
    {
      "cell_type": "markdown",
      "source": [
        "* CREAR UN ITERADOR"
      ],
      "metadata": {
        "id": "n73FE8CqQzhZ"
      }
    },
    {
      "cell_type": "markdown",
      "source": [
        "* Para crear un objeto/clase como iterador debes implementar los emtodos __iter__() y __next__() en tu objeto\n",
        "\n",
        "* Todas las clases tienen una funcion llamada __ init__() que te permite realizar alguna inicializacion cuando se crea el objeto\n",
        "\n",
        "* El __iter__() metodo actua de maneraa similar, puede realizar operaciones (inicializar, etc) pero siempre debes devolver el objeto iterador en si.\n",
        "\n",
        "* el __next__() metodo tambien permite realizar operaciones y debe devolver el siguiente elemento de la secuencia"
      ],
      "metadata": {
        "id": "DAmRBA96Q2hd"
      }
    },
    {
      "cell_type": "code",
      "source": [
        "#Cree un iterador que devuelva numeros, comenzando con 1, y cada secuencia\n",
        "#aumentara en uno (devolviendo 1,2,3,4,5, etc):\n",
        "\n",
        "class mynummbers:\n",
        "  def __iter__(self):\n",
        "    self.a = 1\n",
        "    return self\n",
        "\n",
        "  def __next__(self):\n",
        "    x = self.a\n",
        "    self.a += 1\n",
        "    return x\n",
        "\n",
        "myclass = mynummbers()\n",
        "myiter = iter(myclass)\n",
        "\n",
        "print(next(myiter))\n",
        "print(next(myiter))\n",
        "print(next(myiter))\n",
        "print(next(myiter))\n",
        "print(next(myiter))"
      ],
      "metadata": {
        "colab": {
          "base_uri": "https://localhost:8080/"
        },
        "id": "0Wh3kbZmTStx",
        "outputId": "65508bd1-719a-4f6d-d613-893a7767188f"
      },
      "execution_count": 60,
      "outputs": [
        {
          "output_type": "stream",
          "name": "stdout",
          "text": [
            "1\n",
            "2\n",
            "3\n",
            "4\n",
            "5\n"
          ]
        }
      ]
    },
    {
      "cell_type": "markdown",
      "source": [
        "* DETENER LA ITERACION"
      ],
      "metadata": {
        "id": "B2k6dLFyT95K"
      }
    },
    {
      "cell_type": "markdown",
      "source": [
        "El ejemplo anterior continuaria la indefinidamente si tuviera suficientes declaraciones next() o si se usara en un for bucle\n",
        "\n",
        "Para evitar que la iteracion continue indefinidamente, podemos utilizar la StopIteracion declaracion\n",
        "\n",
        "En el __next__() metodo, podemos agregar una condicion de terminacion para generar un error si la iteracion se realiza una cantidad especifica de veces:"
      ],
      "metadata": {
        "id": "3bBYEgduUAEj"
      }
    },
    {
      "cell_type": "code",
      "source": [
        "#Detenerse despues de 20 iteraciones:\n",
        "class mynumbers:\n",
        "  def __iter__(self):\n",
        "    self.a = 1\n",
        "    return self\n",
        "\n",
        "  def __next__(self):\n",
        "    if self.a <= 20:\n",
        "      x = self.a\n",
        "      self.a += 1\n",
        "      return x\n",
        "    else:\n",
        "      raise StopIteration\n",
        "\n",
        "myclass = mynumbers()\n",
        "myiter = iter(myclass)\n",
        "\n",
        "for x in myiter:\n",
        "  print(x)"
      ],
      "metadata": {
        "colab": {
          "base_uri": "https://localhost:8080/"
        },
        "id": "fR1tVBstUgxN",
        "outputId": "3667c5bb-cd17-4fb8-935c-0c6a582f9ae6"
      },
      "execution_count": 61,
      "outputs": [
        {
          "output_type": "stream",
          "name": "stdout",
          "text": [
            "1\n",
            "2\n",
            "3\n",
            "4\n",
            "5\n",
            "6\n",
            "7\n",
            "8\n",
            "9\n",
            "10\n",
            "11\n",
            "12\n",
            "13\n",
            "14\n",
            "15\n",
            "16\n",
            "17\n",
            "18\n",
            "19\n",
            "20\n"
          ]
        }
      ]
    },
    {
      "cell_type": "markdown",
      "source": [
        "##9. POLIMORFISMO EN PYTHON"
      ],
      "metadata": {
        "id": "LWx427Qg4vLy"
      }
    },
    {
      "cell_type": "markdown",
      "source": [
        "La palabra polimorfismo significa **Muchas Formas** y en programacion se refiere a metodos/ funciones/operadores con el mismo nombre que pueden ejecutarse en muchos objetos o clases"
      ],
      "metadata": {
        "id": "5Yxu-NLxMwKr"
      }
    },
    {
      "cell_type": "markdown",
      "source": [
        "* POLFIMORFISMO DE FUNCIONES"
      ],
      "metadata": {
        "id": "kwWxhZDoNI9u"
      }
    },
    {
      "cell_type": "markdown",
      "source": [
        "Un ejemplo de una funcion de python que se puede utilizar en diferentes objetos es la len() funcion"
      ],
      "metadata": {
        "id": "cRLVN0vwNMb_"
      }
    },
    {
      "cell_type": "markdown",
      "source": [
        "* CADENA"
      ],
      "metadata": {
        "id": "5eAuHkcGNZfC"
      }
    },
    {
      "cell_type": "markdown",
      "source": [
        "Parac cadenas len() devuelve el numero de caracteres:"
      ],
      "metadata": {
        "id": "TcJZzwDFNhsC"
      }
    },
    {
      "cell_type": "code",
      "source": [
        "x = 'hello world'\n",
        "print(len(x))"
      ],
      "metadata": {
        "id": "LMKXjJl_40Ao",
        "colab": {
          "base_uri": "https://localhost:8080/"
        },
        "outputId": "145e6d16-d2c7-44f9-9116-8cbc0997aae6"
      },
      "execution_count": 62,
      "outputs": [
        {
          "output_type": "stream",
          "name": "stdout",
          "text": [
            "11\n"
          ]
        }
      ]
    },
    {
      "cell_type": "markdown",
      "source": [
        "* TUPLA"
      ],
      "metadata": {
        "id": "LjCLDsvkNxp-"
      }
    },
    {
      "cell_type": "markdown",
      "source": [
        "Para tuplas, len() dv uelve el numero de elementos en la tupla:"
      ],
      "metadata": {
        "id": "7YjWta6NNz5M"
      }
    },
    {
      "cell_type": "code",
      "source": [
        "mytuple =  ('apple', 'banana','cherry')\n",
        "print(len(mytuple))"
      ],
      "metadata": {
        "colab": {
          "base_uri": "https://localhost:8080/"
        },
        "id": "unRV7WjgNrye",
        "outputId": "38b6c511-0419-4b10-9be2-ee56f1be2c50"
      },
      "execution_count": 63,
      "outputs": [
        {
          "output_type": "stream",
          "name": "stdout",
          "text": [
            "3\n"
          ]
        }
      ]
    },
    {
      "cell_type": "markdown",
      "source": [
        "* DICCIONARIO"
      ],
      "metadata": {
        "id": "vEZqZQRIOHEs"
      }
    },
    {
      "cell_type": "markdown",
      "source": [
        "Para los diccionarios, len() dvuelve el numero de pares clave/valor en el diccionario"
      ],
      "metadata": {
        "id": "wau4lxxUOKLT"
      }
    },
    {
      "cell_type": "code",
      "source": [
        "thisdict = {\n",
        "    'brand': 'ford',\n",
        "    'model': 'mustang',\n",
        "    'year': 1964\n",
        "}\n",
        "\n",
        "print(len(thisdict))"
      ],
      "metadata": {
        "colab": {
          "base_uri": "https://localhost:8080/"
        },
        "id": "FFyPxIXUOEOh",
        "outputId": "e853a98f-83d3-4763-9505-617ee1397e26"
      },
      "execution_count": 65,
      "outputs": [
        {
          "output_type": "stream",
          "name": "stdout",
          "text": [
            "3\n"
          ]
        }
      ]
    },
    {
      "cell_type": "markdown",
      "source": [
        "* POLIMORFISMO DE CLASES"
      ],
      "metadata": {
        "id": "EZ6w3itXRzK6"
      }
    },
    {
      "cell_type": "markdown",
      "source": [
        "El polimorfismo se utiliza a menudo en los metodos de clase, donde podemos tener varias clases con el mismo nombre de metodo.\n",
        "\n",
        "Por ejemplo, digamos que tenemos tres clases: car, boat, y plane, y todas tienen un metodo llamado move():"
      ],
      "metadata": {
        "id": "t6tDIne1R15_"
      }
    },
    {
      "cell_type": "code",
      "source": [
        "#Diferentes clases con el mismo metodo:\n",
        "class car:\n",
        "  def __init__(self, brand, model):\n",
        "    self.brand = brand\n",
        "    self.model = model\n",
        "\n",
        "  def move(self):\n",
        "    print('Drive!')\n",
        "\n",
        "class boat:\n",
        "  def __init__(self, brand, model):\n",
        "    self.brand = brand\n",
        "    self.model = model\n",
        "\n",
        "  def move(self):\n",
        "    print('Sail!')\n",
        "\n",
        "class plane:\n",
        "  def __init__(self, brand, model):\n",
        "    self.brand = brand\n",
        "    self.model = model\n",
        "\n",
        "  def move(self):\n",
        "    print('fly!')\n",
        "\n",
        "#Creates objects\n",
        "\n",
        "car1 = car('ford','mustang')\n",
        "boat1 = boat('ibiza','touring 20')\n",
        "plane1 = plane('boeing','747')\n",
        "\n",
        "for x in (car1, boat1, plane1):\n",
        "  x.move()"
      ],
      "metadata": {
        "colab": {
          "base_uri": "https://localhost:8080/"
        },
        "id": "HvBaBWl1RtX7",
        "outputId": "01b8bb29-ffc1-450c-8536-986008b9f0db"
      },
      "execution_count": 66,
      "outputs": [
        {
          "output_type": "stream",
          "name": "stdout",
          "text": [
            "Drive!\n",
            "Sail!\n",
            "fly!\n"
          ]
        }
      ]
    },
    {
      "cell_type": "markdown",
      "source": [
        "* POLIMORFISMO DE CLASE DE HERENCIA"
      ],
      "metadata": {
        "id": "ucnAkuRBV9Ri"
      }
    },
    {
      "cell_type": "markdown",
      "source": [
        "¿Que pasa con las clases con clases hijas con el mismo nombre? ¿Podemos usar polimorfismo en ellas?\n",
        "\n",
        "Si usamos el ejemplo anterior y creamos una clase padre llamada vehicle, y hacemos car, boat, plane clases hijas de vehicle, las clases hijas heredan los vehicle metodos, pero pueden anularlos:"
      ],
      "metadata": {
        "id": "a0BwCPO-WGUa"
      }
    },
    {
      "cell_type": "code",
      "source": [
        "#Crea una clase llamada vehicle y crea car, boat, plane clases hijas de vehicle:\n",
        "class vehicle:\n",
        "  def __init__(self, brand, model):\n",
        "    self.brand = brand\n",
        "    self.model = model\n",
        "\n",
        "  def move(self):\n",
        "    print('move!')\n",
        "\n",
        "class car(vehicle):\n",
        "  pass\n",
        "\n",
        "class boat(vehicle):\n",
        "  def move(self):\n",
        "    print('sail!')\n",
        "\n",
        "class plane(vehicle):\n",
        "  def move(self):\n",
        "    print('fly!')\n",
        "\n",
        "car1 = car('ford','mustang')\n",
        "boat1 = boat('ibiza','touring 20')\n",
        "plane1 = plane('boeing','747')\n",
        "\n",
        "for x in (car1, boat1, plane1):\n",
        "  print(x.brand)\n",
        "  print(x.model)\n",
        "  x.move()"
      ],
      "metadata": {
        "colab": {
          "base_uri": "https://localhost:8080/"
        },
        "id": "5KL4gr9rV48y",
        "outputId": "b639d818-28e1-4f69-da0e-0533d977fd15"
      },
      "execution_count": 67,
      "outputs": [
        {
          "output_type": "stream",
          "name": "stdout",
          "text": [
            "ford\n",
            "mustang\n",
            "move!\n",
            "ibiza\n",
            "touring 20\n",
            "sail!\n",
            "boeing\n",
            "747\n",
            "fly!\n"
          ]
        }
      ]
    },
    {
      "cell_type": "markdown",
      "source": [
        "* Las clases secundarias heredan las propiedades y metodos de la clase principal.\n",
        "\n",
        "* En el ejemplo anterior puedes ver que la car clase esta vacia, pero hereda brand, model, y move() de vehicle\n",
        "* las clases boat y tambien heredan , y de , pero ambas anulan el metodo. plane brand model move() vehicle move()\n",
        "\n",
        "* el polimorfismo podemos ejecutar el mismo metodo para todas las clases"
      ],
      "metadata": {
        "id": "9tun2onfcVxy"
      }
    }
  ]
}